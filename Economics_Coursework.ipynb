{
  "nbformat": 4,
  "nbformat_minor": 0,
  "metadata": {
    "colab": {
      "name": "Economics Coursework",
      "provenance": [],
      "collapsed_sections": [],
      "authorship_tag": "ABX9TyMROoSkcU/Z3qY/m9IcQzPO",
      "include_colab_link": true
    },
    "kernelspec": {
      "name": "python3",
      "display_name": "Python 3"
    },
    "language_info": {
      "name": "python"
    }
  },
  "cells": [
    {
      "cell_type": "markdown",
      "metadata": {
        "id": "view-in-github",
        "colab_type": "text"
      },
      "source": [
        "<a href=\"https://colab.research.google.com/github/vardnan/Airbnb-Price-Prediction/blob/main/Economics_Coursework.ipynb\" target=\"_parent\"><img src=\"https://colab.research.google.com/assets/colab-badge.svg\" alt=\"Open In Colab\"/></a>"
      ]
    },
    {
      "cell_type": "markdown",
      "source": [
        "## 1.0 Importing necessary libraries"
      ],
      "metadata": {
        "id": "D5cZgPui2zxV"
      }
    },
    {
      "cell_type": "code",
      "source": [
        "! pip install https://github.com/pandas-profiling/pandas-profiling/archive/master.zip "
      ],
      "metadata": {
        "colab": {
          "base_uri": "https://localhost:8080/"
        },
        "id": "YeEMkkD9KSwr",
        "outputId": "f6c7b14d-3685-4fe2-c33a-aac1642208ef"
      },
      "execution_count": 1,
      "outputs": [
        {
          "output_type": "stream",
          "name": "stdout",
          "text": [
            "Looking in indexes: https://pypi.org/simple, https://us-python.pkg.dev/colab-wheels/public/simple/\n",
            "Collecting https://github.com/pandas-profiling/pandas-profiling/archive/master.zip\n",
            "  Downloading https://github.com/pandas-profiling/pandas-profiling/archive/master.zip\n",
            "\u001b[K     \\ 21.9 MB 141 kB/s\n",
            "\u001b[?25hRequirement already satisfied: joblib~=1.1.0 in /usr/local/lib/python3.7/dist-packages (from pandas-profiling==3.2.0) (1.1.0)\n",
            "Requirement already satisfied: scipy>=1.4.1 in /usr/local/lib/python3.7/dist-packages (from pandas-profiling==3.2.0) (1.7.3)\n",
            "Requirement already satisfied: pandas!=1.0.0,!=1.0.1,!=1.0.2,!=1.1.0,>=0.25.3 in /usr/local/lib/python3.7/dist-packages (from pandas-profiling==3.2.0) (1.3.5)\n",
            "Requirement already satisfied: matplotlib>=3.2.0 in /usr/local/lib/python3.7/dist-packages (from pandas-profiling==3.2.0) (3.2.2)\n",
            "Requirement already satisfied: pydantic>=1.8.1 in /usr/local/lib/python3.7/dist-packages (from pandas-profiling==3.2.0) (1.8.2)\n",
            "Collecting PyYAML>=5.0.0\n",
            "  Downloading PyYAML-6.0-cp37-cp37m-manylinux_2_5_x86_64.manylinux1_x86_64.manylinux_2_12_x86_64.manylinux2010_x86_64.whl (596 kB)\n",
            "\u001b[K     |████████████████████████████████| 596 kB 5.3 MB/s \n",
            "\u001b[?25hRequirement already satisfied: jinja2>=2.11.1 in /usr/local/lib/python3.7/dist-packages (from pandas-profiling==3.2.0) (2.11.3)\n",
            "Collecting visions[type_image_path]==0.7.5\n",
            "  Downloading visions-0.7.5-py3-none-any.whl (102 kB)\n",
            "\u001b[K     |████████████████████████████████| 102 kB 44.4 MB/s \n",
            "\u001b[?25hRequirement already satisfied: numpy>=1.16.0 in /usr/local/lib/python3.7/dist-packages (from pandas-profiling==3.2.0) (1.21.6)\n",
            "Collecting htmlmin>=0.1.12\n",
            "  Downloading htmlmin-0.1.12.tar.gz (19 kB)\n",
            "Requirement already satisfied: missingno>=0.4.2 in /usr/local/lib/python3.7/dist-packages (from pandas-profiling==3.2.0) (0.5.1)\n",
            "Collecting phik>=0.11.1\n",
            "  Downloading phik-0.12.2-cp37-cp37m-manylinux_2_17_x86_64.manylinux2014_x86_64.whl (690 kB)\n",
            "\u001b[K     |████████████████████████████████| 690 kB 38.1 MB/s \n",
            "\u001b[?25hCollecting tangled-up-in-unicode==0.2.0\n",
            "  Downloading tangled_up_in_unicode-0.2.0-py3-none-any.whl (4.7 MB)\n",
            "\u001b[K     |████████████████████████████████| 4.7 MB 29.8 MB/s \n",
            "\u001b[?25hCollecting requests>=2.24.0\n",
            "  Downloading requests-2.28.1-py3-none-any.whl (62 kB)\n",
            "\u001b[K     |████████████████████████████████| 62 kB 1.2 MB/s \n",
            "\u001b[?25hRequirement already satisfied: tqdm>=4.48.2 in /usr/local/lib/python3.7/dist-packages (from pandas-profiling==3.2.0) (4.64.0)\n",
            "Requirement already satisfied: seaborn>=0.10.1 in /usr/local/lib/python3.7/dist-packages (from pandas-profiling==3.2.0) (0.11.2)\n",
            "Collecting multimethod>=1.4\n",
            "  Downloading multimethod-1.8-py3-none-any.whl (9.8 kB)\n",
            "Requirement already satisfied: attrs>=19.3.0 in /usr/local/lib/python3.7/dist-packages (from visions[type_image_path]==0.7.5->pandas-profiling==3.2.0) (21.4.0)\n",
            "Requirement already satisfied: networkx>=2.4 in /usr/local/lib/python3.7/dist-packages (from visions[type_image_path]==0.7.5->pandas-profiling==3.2.0) (2.6.3)\n",
            "Requirement already satisfied: Pillow in /usr/local/lib/python3.7/dist-packages (from visions[type_image_path]==0.7.5->pandas-profiling==3.2.0) (7.1.2)\n",
            "Collecting imagehash\n",
            "  Downloading ImageHash-4.2.1.tar.gz (812 kB)\n",
            "\u001b[K     |████████████████████████████████| 812 kB 54.6 MB/s \n",
            "\u001b[?25hRequirement already satisfied: MarkupSafe>=0.23 in /usr/local/lib/python3.7/dist-packages (from jinja2>=2.11.1->pandas-profiling==3.2.0) (2.0.1)\n",
            "Requirement already satisfied: cycler>=0.10 in /usr/local/lib/python3.7/dist-packages (from matplotlib>=3.2.0->pandas-profiling==3.2.0) (0.11.0)\n",
            "Requirement already satisfied: kiwisolver>=1.0.1 in /usr/local/lib/python3.7/dist-packages (from matplotlib>=3.2.0->pandas-profiling==3.2.0) (1.4.3)\n",
            "Requirement already satisfied: python-dateutil>=2.1 in /usr/local/lib/python3.7/dist-packages (from matplotlib>=3.2.0->pandas-profiling==3.2.0) (2.8.2)\n",
            "Requirement already satisfied: pyparsing!=2.0.4,!=2.1.2,!=2.1.6,>=2.0.1 in /usr/local/lib/python3.7/dist-packages (from matplotlib>=3.2.0->pandas-profiling==3.2.0) (3.0.9)\n",
            "Requirement already satisfied: typing-extensions in /usr/local/lib/python3.7/dist-packages (from kiwisolver>=1.0.1->matplotlib>=3.2.0->pandas-profiling==3.2.0) (4.1.1)\n",
            "Requirement already satisfied: pytz>=2017.3 in /usr/local/lib/python3.7/dist-packages (from pandas!=1.0.0,!=1.0.1,!=1.0.2,!=1.1.0,>=0.25.3->pandas-profiling==3.2.0) (2022.1)\n",
            "Requirement already satisfied: six>=1.5 in /usr/local/lib/python3.7/dist-packages (from python-dateutil>=2.1->matplotlib>=3.2.0->pandas-profiling==3.2.0) (1.15.0)\n",
            "Requirement already satisfied: charset-normalizer<3,>=2 in /usr/local/lib/python3.7/dist-packages (from requests>=2.24.0->pandas-profiling==3.2.0) (2.1.0)\n",
            "Requirement already satisfied: idna<4,>=2.5 in /usr/local/lib/python3.7/dist-packages (from requests>=2.24.0->pandas-profiling==3.2.0) (2.10)\n",
            "Requirement already satisfied: certifi>=2017.4.17 in /usr/local/lib/python3.7/dist-packages (from requests>=2.24.0->pandas-profiling==3.2.0) (2022.6.15)\n",
            "Requirement already satisfied: urllib3<1.27,>=1.21.1 in /usr/local/lib/python3.7/dist-packages (from requests>=2.24.0->pandas-profiling==3.2.0) (1.24.3)\n",
            "Requirement already satisfied: PyWavelets in /usr/local/lib/python3.7/dist-packages (from imagehash->visions[type_image_path]==0.7.5->pandas-profiling==3.2.0) (1.3.0)\n",
            "Building wheels for collected packages: pandas-profiling, htmlmin, imagehash\n",
            "  Building wheel for pandas-profiling (setup.py) ... \u001b[?25l\u001b[?25hdone\n",
            "  Created wheel for pandas-profiling: filename=pandas_profiling-3.2.0-py2.py3-none-any.whl size=261257 sha256=38610e2b57e9d28b688cd6e7c3db2e41442589e787a4ab19afc65c7112fab53e\n",
            "  Stored in directory: /tmp/pip-ephem-wheel-cache-1jwudqac/wheels/cc/d5/09/083fb07c9363a2f45854b0e3a7de7d7c560f07da74b9e9769d\n",
            "  Building wheel for htmlmin (setup.py) ... \u001b[?25l\u001b[?25hdone\n",
            "  Created wheel for htmlmin: filename=htmlmin-0.1.12-py3-none-any.whl size=27098 sha256=e10792ff552efc8acb6b79f6a01cff8126f05f6f10ae52142df95edb69df4973\n",
            "  Stored in directory: /root/.cache/pip/wheels/70/e1/52/5b14d250ba868768823940c3229e9950d201a26d0bd3ee8655\n",
            "  Building wheel for imagehash (setup.py) ... \u001b[?25l\u001b[?25hdone\n",
            "  Created wheel for imagehash: filename=ImageHash-4.2.1-py2.py3-none-any.whl size=295206 sha256=e170a49d136e94684b9d8f3157735cb7cde4b39dca73306b597d4eb159371145\n",
            "  Stored in directory: /root/.cache/pip/wheels/4c/d5/59/5e3e297533ddb09407769762985d134135064c6831e29a914e\n",
            "Successfully built pandas-profiling htmlmin imagehash\n",
            "Installing collected packages: tangled-up-in-unicode, multimethod, visions, imagehash, requests, PyYAML, phik, htmlmin, pandas-profiling\n",
            "  Attempting uninstall: requests\n",
            "    Found existing installation: requests 2.23.0\n",
            "    Uninstalling requests-2.23.0:\n",
            "      Successfully uninstalled requests-2.23.0\n",
            "  Attempting uninstall: PyYAML\n",
            "    Found existing installation: PyYAML 3.13\n",
            "    Uninstalling PyYAML-3.13:\n",
            "      Successfully uninstalled PyYAML-3.13\n",
            "  Attempting uninstall: pandas-profiling\n",
            "    Found existing installation: pandas-profiling 1.4.1\n",
            "    Uninstalling pandas-profiling-1.4.1:\n",
            "      Successfully uninstalled pandas-profiling-1.4.1\n",
            "\u001b[31mERROR: pip's dependency resolver does not currently take into account all the packages that are installed. This behaviour is the source of the following dependency conflicts.\n",
            "google-colab 1.0.0 requires requests~=2.23.0, but you have requests 2.28.1 which is incompatible.\n",
            "datascience 0.10.6 requires folium==0.2.1, but you have folium 0.8.3 which is incompatible.\u001b[0m\n",
            "Successfully installed PyYAML-6.0 htmlmin-0.1.12 imagehash-4.2.1 multimethod-1.8 pandas-profiling-3.2.0 phik-0.12.2 requests-2.28.1 tangled-up-in-unicode-0.2.0 visions-0.7.5\n"
          ]
        }
      ]
    },
    {
      "cell_type": "code",
      "execution_count": null,
      "metadata": {
        "id": "wW3GJsiY1WMA",
        "colab": {
          "base_uri": "https://localhost:8080/",
          "height": 550
        },
        "outputId": "3dcd5b68-5a9b-463d-a2f9-348452b8fb9c"
      },
      "outputs": [
        {
          "output_type": "error",
          "ename": "ImportError",
          "evalue": "ignored",
          "traceback": [
            "\u001b[0;31m---------------------------------------------------------------------------\u001b[0m",
            "\u001b[0;31mImportError\u001b[0m                               Traceback (most recent call last)",
            "\u001b[0;32m<ipython-input-13-107fb8c748ef>\u001b[0m in \u001b[0;36m<module>\u001b[0;34m()\u001b[0m\n\u001b[1;32m      1\u001b[0m \u001b[0;32mimport\u001b[0m \u001b[0mnumpy\u001b[0m \u001b[0;32mas\u001b[0m \u001b[0mnp\u001b[0m\u001b[0;34m\u001b[0m\u001b[0;34m\u001b[0m\u001b[0m\n\u001b[0;32m----> 2\u001b[0;31m \u001b[0;32mimport\u001b[0m \u001b[0mseaborn\u001b[0m \u001b[0;32mas\u001b[0m \u001b[0msns\u001b[0m\u001b[0;34m\u001b[0m\u001b[0;34m\u001b[0m\u001b[0m\n\u001b[0m\u001b[1;32m      3\u001b[0m \u001b[0;32mimport\u001b[0m \u001b[0mmatplotlib\u001b[0m\u001b[0;34m.\u001b[0m\u001b[0mpyplot\u001b[0m \u001b[0;32mas\u001b[0m \u001b[0mplt\u001b[0m\u001b[0;34m\u001b[0m\u001b[0;34m\u001b[0m\u001b[0m\n\u001b[1;32m      4\u001b[0m \u001b[0mget_ipython\u001b[0m\u001b[0;34m(\u001b[0m\u001b[0;34m)\u001b[0m\u001b[0;34m.\u001b[0m\u001b[0mmagic\u001b[0m\u001b[0;34m(\u001b[0m\u001b[0;34m'matplotlib inline'\u001b[0m\u001b[0;34m)\u001b[0m\u001b[0;34m\u001b[0m\u001b[0;34m\u001b[0m\u001b[0m\n\u001b[1;32m      5\u001b[0m \u001b[0;32mimport\u001b[0m \u001b[0mpandas\u001b[0m \u001b[0;32mas\u001b[0m \u001b[0mpd\u001b[0m\u001b[0;34m\u001b[0m\u001b[0;34m\u001b[0m\u001b[0m\n",
            "\u001b[0;32m/usr/local/lib/python3.7/dist-packages/seaborn/__init__.py\u001b[0m in \u001b[0;36m<module>\u001b[0;34m()\u001b[0m\n\u001b[1;32m      7\u001b[0m \u001b[0;32mfrom\u001b[0m \u001b[0;34m.\u001b[0m\u001b[0mcategorical\u001b[0m \u001b[0;32mimport\u001b[0m \u001b[0;34m*\u001b[0m  \u001b[0;31m# noqa: F401,F403\u001b[0m\u001b[0;34m\u001b[0m\u001b[0;34m\u001b[0m\u001b[0m\n\u001b[1;32m      8\u001b[0m \u001b[0;32mfrom\u001b[0m \u001b[0;34m.\u001b[0m\u001b[0mdistributions\u001b[0m \u001b[0;32mimport\u001b[0m \u001b[0;34m*\u001b[0m  \u001b[0;31m# noqa: F401,F403\u001b[0m\u001b[0;34m\u001b[0m\u001b[0;34m\u001b[0m\u001b[0m\n\u001b[0;32m----> 9\u001b[0;31m \u001b[0;32mfrom\u001b[0m \u001b[0;34m.\u001b[0m\u001b[0mmatrix\u001b[0m \u001b[0;32mimport\u001b[0m \u001b[0;34m*\u001b[0m  \u001b[0;31m# noqa: F401,F403\u001b[0m\u001b[0;34m\u001b[0m\u001b[0;34m\u001b[0m\u001b[0m\n\u001b[0m\u001b[1;32m     10\u001b[0m \u001b[0;32mfrom\u001b[0m \u001b[0;34m.\u001b[0m\u001b[0mmiscplot\u001b[0m \u001b[0;32mimport\u001b[0m \u001b[0;34m*\u001b[0m  \u001b[0;31m# noqa: F401,F403\u001b[0m\u001b[0;34m\u001b[0m\u001b[0;34m\u001b[0m\u001b[0m\n\u001b[1;32m     11\u001b[0m \u001b[0;32mfrom\u001b[0m \u001b[0;34m.\u001b[0m\u001b[0maxisgrid\u001b[0m \u001b[0;32mimport\u001b[0m \u001b[0;34m*\u001b[0m  \u001b[0;31m# noqa: F401,F403\u001b[0m\u001b[0;34m\u001b[0m\u001b[0;34m\u001b[0m\u001b[0m\n",
            "\u001b[0;32m/usr/local/lib/python3.7/dist-packages/seaborn/matrix.py\u001b[0m in \u001b[0;36m<module>\u001b[0;34m()\u001b[0m\n\u001b[1;32m      8\u001b[0m \u001b[0;32mimport\u001b[0m \u001b[0mnumpy\u001b[0m \u001b[0;32mas\u001b[0m \u001b[0mnp\u001b[0m\u001b[0;34m\u001b[0m\u001b[0;34m\u001b[0m\u001b[0m\n\u001b[1;32m      9\u001b[0m \u001b[0;32mimport\u001b[0m \u001b[0mpandas\u001b[0m \u001b[0;32mas\u001b[0m \u001b[0mpd\u001b[0m\u001b[0;34m\u001b[0m\u001b[0;34m\u001b[0m\u001b[0m\n\u001b[0;32m---> 10\u001b[0;31m \u001b[0;32mfrom\u001b[0m \u001b[0mscipy\u001b[0m\u001b[0;34m.\u001b[0m\u001b[0mcluster\u001b[0m \u001b[0;32mimport\u001b[0m \u001b[0mhierarchy\u001b[0m\u001b[0;34m\u001b[0m\u001b[0;34m\u001b[0m\u001b[0m\n\u001b[0m\u001b[1;32m     11\u001b[0m \u001b[0;34m\u001b[0m\u001b[0m\n\u001b[1;32m     12\u001b[0m \u001b[0;32mfrom\u001b[0m \u001b[0;34m.\u001b[0m \u001b[0;32mimport\u001b[0m \u001b[0mcm\u001b[0m\u001b[0;34m\u001b[0m\u001b[0;34m\u001b[0m\u001b[0m\n",
            "\u001b[0;32m/usr/local/lib/python3.7/dist-packages/scipy/cluster/__init__.py\u001b[0m in \u001b[0;36m<module>\u001b[0;34m()\u001b[0m\n\u001b[1;32m     23\u001b[0m \u001b[0m__all__\u001b[0m \u001b[0;34m=\u001b[0m \u001b[0;34m[\u001b[0m\u001b[0;34m'vq'\u001b[0m\u001b[0;34m,\u001b[0m \u001b[0;34m'hierarchy'\u001b[0m\u001b[0;34m]\u001b[0m\u001b[0;34m\u001b[0m\u001b[0;34m\u001b[0m\u001b[0m\n\u001b[1;32m     24\u001b[0m \u001b[0;34m\u001b[0m\u001b[0m\n\u001b[0;32m---> 25\u001b[0;31m \u001b[0;32mfrom\u001b[0m \u001b[0;34m.\u001b[0m \u001b[0;32mimport\u001b[0m \u001b[0mvq\u001b[0m\u001b[0;34m,\u001b[0m \u001b[0mhierarchy\u001b[0m\u001b[0;34m\u001b[0m\u001b[0;34m\u001b[0m\u001b[0m\n\u001b[0m\u001b[1;32m     26\u001b[0m \u001b[0;34m\u001b[0m\u001b[0m\n\u001b[1;32m     27\u001b[0m \u001b[0;32mfrom\u001b[0m \u001b[0mscipy\u001b[0m\u001b[0;34m.\u001b[0m\u001b[0m_lib\u001b[0m\u001b[0;34m.\u001b[0m\u001b[0m_testutils\u001b[0m \u001b[0;32mimport\u001b[0m \u001b[0mPytestTester\u001b[0m\u001b[0;34m\u001b[0m\u001b[0;34m\u001b[0m\u001b[0m\n",
            "\u001b[0;32m/usr/local/lib/python3.7/dist-packages/scipy/cluster/vq.py\u001b[0m in \u001b[0;36m<module>\u001b[0;34m()\u001b[0m\n\u001b[1;32m     68\u001b[0m \u001b[0;32mimport\u001b[0m \u001b[0mnumpy\u001b[0m \u001b[0;32mas\u001b[0m \u001b[0mnp\u001b[0m\u001b[0;34m\u001b[0m\u001b[0;34m\u001b[0m\u001b[0m\n\u001b[1;32m     69\u001b[0m \u001b[0;32mfrom\u001b[0m \u001b[0mcollections\u001b[0m \u001b[0;32mimport\u001b[0m \u001b[0mdeque\u001b[0m\u001b[0;34m\u001b[0m\u001b[0;34m\u001b[0m\u001b[0m\n\u001b[0;32m---> 70\u001b[0;31m \u001b[0;32mfrom\u001b[0m \u001b[0mscipy\u001b[0m\u001b[0;34m.\u001b[0m\u001b[0m_lib\u001b[0m\u001b[0;34m.\u001b[0m\u001b[0m_util\u001b[0m \u001b[0;32mimport\u001b[0m \u001b[0m_asarray_validated\u001b[0m\u001b[0;34m,\u001b[0m \u001b[0mcheck_random_state\u001b[0m\u001b[0;34m,\u001b[0m\u001b[0;31m\\\u001b[0m\u001b[0;34m\u001b[0m\u001b[0;34m\u001b[0m\u001b[0m\n\u001b[0m\u001b[1;32m     71\u001b[0m     \u001b[0mrng_integers\u001b[0m\u001b[0;34m\u001b[0m\u001b[0;34m\u001b[0m\u001b[0m\n\u001b[1;32m     72\u001b[0m \u001b[0;32mfrom\u001b[0m \u001b[0mscipy\u001b[0m\u001b[0;34m.\u001b[0m\u001b[0mspatial\u001b[0m\u001b[0;34m.\u001b[0m\u001b[0mdistance\u001b[0m \u001b[0;32mimport\u001b[0m \u001b[0mcdist\u001b[0m\u001b[0;34m\u001b[0m\u001b[0;34m\u001b[0m\u001b[0m\n",
            "\u001b[0;31mImportError\u001b[0m: cannot import name 'rng_integers' from 'scipy._lib._util' (/usr/local/lib/python3.7/dist-packages/scipy/_lib/_util.py)",
            "",
            "\u001b[0;31m---------------------------------------------------------------------------\u001b[0;32m\nNOTE: If your import is failing due to a missing package, you can\nmanually install dependencies using either !pip or !apt.\n\nTo view examples of installing some common dependencies, click the\n\"Open Examples\" button below.\n\u001b[0;31m---------------------------------------------------------------------------\u001b[0m\n"
          ],
          "errorDetails": {
            "actions": [
              {
                "action": "open_url",
                "actionText": "Open Examples",
                "url": "/notebooks/snippets/importing_libraries.ipynb"
              }
            ]
          }
        }
      ],
      "source": [
        "import numpy as np\n",
        "import seaborn as sns\n",
        "import matplotlib.pyplot as plt\n",
        "%matplotlib inline\n",
        "import pandas as pd\n",
        "from pandas_profiling import ProfileReport\n",
        "from sklearn.impute import SimpleImputer"
      ]
    },
    {
      "cell_type": "markdown",
      "source": [
        "## 2.0 Importing the Airbnb dataset"
      ],
      "metadata": {
        "id": "y-E32Pf52_5J"
      }
    },
    {
      "cell_type": "code",
      "source": [
        "dataset = pd.read_csv('airbnb_dataset.csv')\n",
        "df = pd.DataFrame(dataset)\n",
        "display(df)"
      ],
      "metadata": {
        "id": "1o1XN3dp3FNJ"
      },
      "execution_count": null,
      "outputs": []
    },
    {
      "cell_type": "markdown",
      "source": [
        "### 2.1 Setting \"Price\" as the last column for easier data processing"
      ],
      "metadata": {
        "id": "JlGSQLxQ9kwI"
      }
    },
    {
      "cell_type": "code",
      "source": [
        "last_column = df.pop('Price')\n",
        "df.insert(26, 'Price', last_column)\n",
        "display(df)"
      ],
      "metadata": {
        "id": "ugj0wVZA7SFF"
      },
      "execution_count": null,
      "outputs": []
    },
    {
      "cell_type": "markdown",
      "source": [
        "### 2.2 Dropping listing column as it is unecessary for price prediction"
      ],
      "metadata": {
        "id": "FXi6LjqMiHW_"
      }
    },
    {
      "cell_type": "code",
      "source": [
        "df = df.drop(columns = 'Listing No.')\n",
        "display(df)"
      ],
      "metadata": {
        "id": "lhTbYBpL-SeK"
      },
      "execution_count": null,
      "outputs": []
    },
    {
      "cell_type": "markdown",
      "source": [
        "### 2.3 Validating data types of each column in the dataset"
      ],
      "metadata": {
        "id": "KynNV2ynLGbv"
      }
    },
    {
      "cell_type": "code",
      "source": [
        "dataTypeSeries = df.dtypes\n",
        "print('Data type of each column in dataset:')\n",
        "print(dataTypeSeries)"
      ],
      "metadata": {
        "id": "ZEY34hj_K_P6"
      },
      "execution_count": null,
      "outputs": []
    },
    {
      "cell_type": "markdown",
      "source": [
        "#### 2.3.1 Changing dummy variables into boolean data type "
      ],
      "metadata": {
        "id": "dHBm2234LlKt"
      }
    },
    {
      "cell_type": "code",
      "source": [
        "df['Superhost'] = df['Superhost'].astype('bool')\n",
        "df['Host identity verified'] = df['Host identity verified'].astype('bool')\n",
        "df['Host listings count'] = df['Host listings count'].astype('bool')\n",
        "df['Host identity verified'] = df['Host identity verified'].astype('bool')\n",
        "df['Accommodation type 1'] = df['Accommodation type 1'].astype('bool')\n",
        "df['Accommodation type 2'] = df['Accommodation type 2'].astype('bool')\n",
        "df['Accommodation type 3'] = df['Accommodation type 3'].astype('bool')\n",
        "df['Accommodation type 4'] = df['Accommodation type 4'].astype('bool')\n",
        "df['Entire home/apartment'] = df['Entire home/apartment'].astype('bool')\n",
        "df['Private room'] = df['Private room'].astype('bool')\n",
        "df['Shared room'] = df['Shared room'].astype('bool')\n",
        "df['Real bed'] = df['Real bed'].astype('bool')\n",
        "df['Wireless Internet'] = df['Wireless Internet'].astype('bool')\n",
        "df['Breakfast'] = df['Breakfast'].astype('bool')\n",
        "df['Free parking'] = df['Free parking'].astype('bool')\n",
        "df['Instant bookable'] = df['Instant bookable'].astype('bool')\n",
        "df['Cancellation policy (Moderate plus strict)'] = df['Cancellation policy (Moderate plus strict)'].astype('bool')\n",
        "df['Smoking allowed'] = df['Smoking allowed'].astype('bool')\n",
        "df[\"Required guest's profile picture\"] = df[\"Required guest's profile picture\"].astype('bool')\n",
        "df[\"Required guest's phone verification\"] = df[\"Required guest's phone verification\"].astype('bool')"
      ],
      "metadata": {
        "id": "ttzCCpKXLNVM"
      },
      "execution_count": null,
      "outputs": []
    },
    {
      "cell_type": "markdown",
      "source": [
        "## 3.0 Data understanding"
      ],
      "metadata": {
        "id": "Cgvshzhe9-d7"
      }
    },
    {
      "cell_type": "markdown",
      "source": [
        "### 3.1 Identifying missing data"
      ],
      "metadata": {
        "id": "dNSBWbkykSN_"
      }
    },
    {
      "cell_type": "code",
      "source": [
        "df.isnull().sum().sort_values(ascending=False)/len(df)"
      ],
      "metadata": {
        "id": "ACVj2nu2iVVh"
      },
      "execution_count": null,
      "outputs": []
    },
    {
      "cell_type": "markdown",
      "source": [
        "### 3.2 Identifying duplicate data"
      ],
      "metadata": {
        "id": "iG0ygPg2GTo6"
      }
    },
    {
      "cell_type": "code",
      "source": [
        "df.duplicated()"
      ],
      "metadata": {
        "id": "snEXFZNsFOTp"
      },
      "execution_count": null,
      "outputs": []
    },
    {
      "cell_type": "markdown",
      "source": [
        "### 3.3 Identifying outlier values"
      ],
      "metadata": {
        "id": "q8nTlLIpGemN"
      }
    },
    {
      "cell_type": "code",
      "source": [
        "sns.boxplot(x = df['Price'])\n",
        "plt.show()"
      ],
      "metadata": {
        "id": "dt2ypkbpOozF"
      },
      "execution_count": null,
      "outputs": []
    },
    {
      "cell_type": "markdown",
      "source": [
        "### 3.4 Identifying invalid data, multi-collinearity, and other issues with Panda Profiling"
      ],
      "metadata": {
        "id": "nTwSwSqjGW9J"
      }
    },
    {
      "cell_type": "code",
      "source": [
        "profile = ProfileReport(df)\n",
        "profile.to_notebook_iframe()"
      ],
      "metadata": {
        "id": "PMJkSkeqJGAf"
      },
      "execution_count": null,
      "outputs": []
    },
    {
      "cell_type": "code",
      "source": [
        "sns.set(font_scale = 1)\n",
        "\n",
        "fig, ax = plt.subplots()\n",
        "fig.set_size_inches(25, 12)\n",
        "sns.heatmap(df.corr(),cmap='coolwarm',ax=ax,annot=True,linewidths=2)"
      ],
      "metadata": {
        "id": "zxIyI_vtm4GW"
      },
      "execution_count": null,
      "outputs": []
    },
    {
      "cell_type": "markdown",
      "source": [
        "#### 3.4.1 Identifying prices with an invalid value of zero"
      ],
      "metadata": {
        "id": "teT5C3diDdUK"
      }
    },
    {
      "cell_type": "code",
      "source": [
        "(df['Price'] == 0).sum()"
      ],
      "metadata": {
        "id": "DyJISEwpNuP9"
      },
      "execution_count": null,
      "outputs": []
    },
    {
      "cell_type": "markdown",
      "source": [
        "### 3.5 Data description"
      ],
      "metadata": {
        "id": "vJPJxTP4vMnp"
      }
    },
    {
      "cell_type": "code",
      "source": [
        "df.describe()"
      ],
      "metadata": {
        "id": "orSAvwQ_H0KQ"
      },
      "execution_count": null,
      "outputs": []
    },
    {
      "cell_type": "markdown",
      "source": [
        "## 4.0 Data preparation"
      ],
      "metadata": {
        "id": "-SVSQY6Pl8BW"
      }
    },
    {
      "cell_type": "markdown",
      "source": [
        "### 4.1 Handling missing values"
      ],
      "metadata": {
        "id": "m8vK8n5mIOtd"
      }
    },
    {
      "cell_type": "code",
      "source": [
        "df['Review scores for overall rating'].fillna(df['Review scores for overall rating'].mean(), inplace = True)\n",
        "df['Reviews per year'].fillna(df['Reviews per year'].mean(), inplace = True)\n",
        "df['Bathrooms'].fillna(df['Bathrooms'].mean(), inplace = True)"
      ],
      "metadata": {
        "id": "7Hl9pakZl_dK"
      },
      "execution_count": null,
      "outputs": []
    },
    {
      "cell_type": "code",
      "source": [
        "df.isnull().sum().sort_values(ascending=False)/len(df)"
      ],
      "metadata": {
        "id": "WU56A5MhNW9I"
      },
      "execution_count": null,
      "outputs": []
    },
    {
      "cell_type": "markdown",
      "source": [
        "### 4.2 Handling outlier values"
      ],
      "metadata": {
        "id": "O2VA35xoQluw"
      }
    },
    {
      "cell_type": "code",
      "source": [
        "df = df[df.Price < 2000]\n",
        "sns.boxplot(x = df['Price'])\n",
        "# We see that for the independent values that their mean value is not far from their max. Meaning they don't have any significant outliers."
      ],
      "metadata": {
        "id": "hU5FZOZ7QqAd"
      },
      "execution_count": null,
      "outputs": []
    },
    {
      "cell_type": "markdown",
      "source": [
        "###4.3 Dropping prices with values of 0"
      ],
      "metadata": {
        "id": "NsyAEbDnRfov"
      }
    },
    {
      "cell_type": "code",
      "source": [
        "df.drop(df[df.Price == 0].index, inplace=True)\n",
        "(df['Price'] == 0).sum()"
      ],
      "metadata": {
        "id": "-B_u4PLNQ57g"
      },
      "execution_count": null,
      "outputs": []
    },
    {
      "cell_type": "markdown",
      "source": [
        "###4.4 Handling multicollinearity\n"
      ],
      "metadata": {
        "id": "631EAOOPrOFz"
      }
    },
    {
      "cell_type": "code",
      "source": [
        "df = df.drop(columns = 'Accommodation type 3')\n",
        "df = df.drop(columns = 'Private room')\n",
        "df = df.drop(columns = 'Accommodates')\n",
        "df = df.drop(columns = \"Required guest's profile picture\")"
      ],
      "metadata": {
        "id": "-ayre82vr0KI"
      },
      "execution_count": null,
      "outputs": []
    },
    {
      "cell_type": "code",
      "source": [
        "display(df)"
      ],
      "metadata": {
        "id": "tPbUBQlBtxG1"
      },
      "execution_count": null,
      "outputs": []
    },
    {
      "cell_type": "code",
      "source": [
        "print(len(df.columns))"
      ],
      "metadata": {
        "id": "SG3LwjSSIdlw"
      },
      "execution_count": null,
      "outputs": []
    },
    {
      "cell_type": "markdown",
      "source": [
        "## 5.0 Modelling"
      ],
      "metadata": {
        "id": "IEk7xkXYxHaS"
      }
    },
    {
      "cell_type": "markdown",
      "source": [
        "###5.1 Model training"
      ],
      "metadata": {
        "id": "VA83KJ1wxYTh"
      }
    },
    {
      "cell_type": "markdown",
      "source": [
        "#### 5.1.1 Setting independent and dependent variable for training"
      ],
      "metadata": {
        "id": "NvymHTYov803"
      }
    },
    {
      "cell_type": "code",
      "source": [
        "X = df.iloc[:, :-1].values\n",
        "y = df.iloc[:, -1].values\n",
        "print(y)"
      ],
      "metadata": {
        "id": "uBUlDU-QwCAc"
      },
      "execution_count": null,
      "outputs": []
    },
    {
      "cell_type": "markdown",
      "source": [
        "#### 5.1.2 Splitting dataset into training and test set"
      ],
      "metadata": {
        "id": "Gj1O19yGCIGX"
      }
    },
    {
      "cell_type": "code",
      "source": [
        "from sklearn.model_selection import train_test_split\n",
        "X_train, X_test, y_train, y_test = train_test_split(X, y, test_size = 0.3, random_state = 0)"
      ],
      "metadata": {
        "id": "HiCpq626CTTz"
      },
      "execution_count": null,
      "outputs": []
    },
    {
      "cell_type": "markdown",
      "source": [
        "### 5.2 Model building and prediction"
      ],
      "metadata": {
        "id": "jyMpRwA6C7rG"
      }
    },
    {
      "cell_type": "markdown",
      "source": [
        "#### 5.2.1 Multiple linear regression"
      ],
      "metadata": {
        "id": "emsx77yeDAvE"
      }
    },
    {
      "cell_type": "code",
      "source": [
        "from sklearn.linear_model import LinearRegression\n",
        "lin_reg = LinearRegression()\n",
        "lin_reg.fit(X_train, y_train)"
      ],
      "metadata": {
        "id": "UMHdlW1UC_9N"
      },
      "execution_count": null,
      "outputs": []
    },
    {
      "cell_type": "code",
      "source": [
        "lin_pred = lin_reg.predict(X_test)\n",
        "np.set_printoptions(precision=2)\n",
        "print(np.concatenate((lin_pred.reshape(len(lin_pred),1), y_test.reshape(len(y_test),1)),1))"
      ],
      "metadata": {
        "id": "FDwuhoutmSJA"
      },
      "execution_count": null,
      "outputs": []
    },
    {
      "cell_type": "markdown",
      "source": [
        "#### 5.2.2 Decision tree regression"
      ],
      "metadata": {
        "id": "Uda_ceHAD8hv"
      }
    },
    {
      "cell_type": "code",
      "source": [
        "from sklearn.tree import DecisionTreeRegressor\n",
        "d_reg = DecisionTreeRegressor(random_state = 0)\n",
        "d_reg.fit(X_train, y_train)"
      ],
      "metadata": {
        "id": "Di8MHaJhEMyn"
      },
      "execution_count": null,
      "outputs": []
    },
    {
      "cell_type": "code",
      "source": [
        "d_pred = d_reg.predict(X_test)\n",
        "np.set_printoptions(precision=2)\n",
        "print(np.concatenate((d_pred.reshape(len(d_pred),1), y_test.reshape(len(y_test),1)),1))"
      ],
      "metadata": {
        "id": "UYeA2GrcmTG_"
      },
      "execution_count": null,
      "outputs": []
    },
    {
      "cell_type": "markdown",
      "source": [
        "####5.2.3 Random forest regression"
      ],
      "metadata": {
        "id": "ggI3OxLjEUwg"
      }
    },
    {
      "cell_type": "code",
      "source": [
        "from sklearn.ensemble import RandomForestRegressor\n",
        "r_reg = RandomForestRegressor(n_estimators=200,max_depth=20,n_jobs=-1,random_state=0)\n",
        "r_reg.fit(X_train, y_train)"
      ],
      "metadata": {
        "id": "XGsTymgVEYFA"
      },
      "execution_count": null,
      "outputs": []
    },
    {
      "cell_type": "code",
      "source": [
        "r_pred = r_reg.predict(X_test)\n",
        "np.set_printoptions(precision=2)\n",
        "print(np.concatenate((r_pred.reshape(len(r_pred),1), y_test.reshape(len(y_test),1)),1))"
      ],
      "metadata": {
        "id": "GEhrAmuGmgZo"
      },
      "execution_count": null,
      "outputs": []
    },
    {
      "cell_type": "markdown",
      "source": [
        "### 5.2 Model selection"
      ],
      "metadata": {
        "id": "GnqxSd8Lxdzm"
      }
    },
    {
      "cell_type": "code",
      "source": [
        "print(\"Multiple linear regression\")\n",
        "from sklearn.metrics import r2_score\n",
        "r2_score(y_test, lin_pred)"
      ],
      "metadata": {
        "id": "dgeis5D2n5dm"
      },
      "execution_count": null,
      "outputs": []
    },
    {
      "cell_type": "code",
      "source": [
        "print(\"Decision tree regression\")\n",
        "from sklearn.metrics import r2_score\n",
        "r2_score(y_test, d_pred)"
      ],
      "metadata": {
        "id": "lWWPC7Fpn_2c"
      },
      "execution_count": null,
      "outputs": []
    },
    {
      "cell_type": "code",
      "source": [
        "print(\"Random forest regression\")\n",
        "from sklearn.metrics import r2_score\n",
        "r2_score(y_test, r_pred)"
      ],
      "metadata": {
        "id": "YfKsUzNgoDAR"
      },
      "execution_count": null,
      "outputs": []
    },
    {
      "cell_type": "markdown",
      "source": [
        "###5.2.2 k-fold cross validation"
      ],
      "metadata": {
        "id": "Q3cWQNgnCm1U"
      }
    },
    {
      "cell_type": "code",
      "source": [
        "from sklearn.model_selection import cross_val_score\n",
        "accuracies = cross_val_score(estimator = lin_reg, X = X_train, y = y_train, scoring = 'r2', cv = 10)\n",
        "print(\"r2: {:.2f} %\".format(accuracies.mean()*100))\n",
        "print(\"r2 standard deviation: {:.2f} %\".format(accuracies.std()*100))"
      ],
      "metadata": {
        "id": "OpOAaPXRC0hl"
      },
      "execution_count": null,
      "outputs": []
    },
    {
      "cell_type": "code",
      "source": [
        "##from sklearn.model_selection import cross_val_score\n",
        "##accuracies = cross_val_score(estimator = lin_reg, X = X_train, y = y_train, scoring='mean_squared_error', cv = 10)\n",
        "##print(\"RMSE:\" accuracies.mean())"
      ],
      "metadata": {
        "id": "qT7olyr1cFdr"
      },
      "execution_count": null,
      "outputs": []
    },
    {
      "cell_type": "code",
      "source": [
        "##adj_r2 = 1-(1-r2_scoring)*(10-1)/(10-21-1)\n",
        "##print(adj_r2)"
      ],
      "metadata": {
        "id": "CHnfMXSVHlZb"
      },
      "execution_count": null,
      "outputs": []
    },
    {
      "cell_type": "code",
      "source": [
        "from sklearn.model_selection import cross_val_score\n",
        "accuracies = cross_val_score(estimator = d_reg, X = X_train, y = y_train, scoring = 'r2', cv = 10)\n",
        "print(\"r2: {:.2f} %\".format(accuracies.mean()*100))\n",
        "print(\"Standard deviation: {:.2f} %\".format(accuracies.std()*100))"
      ],
      "metadata": {
        "id": "SQiYjG_aFO48"
      },
      "execution_count": null,
      "outputs": []
    },
    {
      "cell_type": "code",
      "source": [
        "from sklearn.model_selection import cross_val_score\n",
        "accuracies = cross_val_score(estimator = r_reg, X = X_train, y = y_train, scoring = 'r2', cv = 10)\n",
        "print(\"r2: {:.2f} %\".format(accuracies.mean()*100))\n",
        "print(\"Standard deviation: {:.2f} %\".format(accuracies.std()*100))"
      ],
      "metadata": {
        "id": "8T3hAUNgFPIz"
      },
      "execution_count": null,
      "outputs": []
    }
  ]
}